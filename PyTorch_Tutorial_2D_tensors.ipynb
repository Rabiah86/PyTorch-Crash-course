{
  "nbformat": 4,
  "nbformat_minor": 0,
  "metadata": {
    "colab": {
      "name": "PyTorch Tutorial 2D tensors.ipynb",
      "provenance": [],
      "authorship_tag": "ABX9TyOvnY0jOQYgFX3EVq+zFIL7",
      "include_colab_link": true
    },
    "kernelspec": {
      "name": "python3",
      "display_name": "Python 3"
    }
  },
  "cells": [
    {
      "cell_type": "markdown",
      "metadata": {
        "id": "view-in-github",
        "colab_type": "text"
      },
      "source": [
        "<a href=\"https://colab.research.google.com/github/Rabiah86/PyTorch-Crash-course/blob/main/PyTorch_Tutorial_2D_tensors.ipynb\" target=\"_parent\"><img src=\"https://colab.research.google.com/assets/colab-badge.svg\" alt=\"Open In Colab\"/></a>"
      ]
    },
    {
      "cell_type": "code",
      "metadata": {
        "id": "5BR4HcFGl55l",
        "outputId": "d8eae767-9be5-4736-e369-d26dae611601",
        "colab": {
          "base_uri": "https://localhost:8080/"
        }
      },
      "source": [
        "\n",
        "import numpy as np \n",
        "import matplotlib.pyplot as plt\n",
        "import torch\n",
        "import pandas as pd\n",
        "# from 1D to 2D\n",
        "OneD = torch.tensor([4,5,7])\n",
        "OneD.view(-1,1) # -1 means automatically infer the number of rows\n",
        "#if you try OneD.view(-1,2) then you'll get an error\n",
        "\n"
      ],
      "execution_count": 7,
      "outputs": [
        {
          "output_type": "execute_result",
          "data": {
            "text/plain": [
              "tensor([[4],\n",
              "        [5],\n",
              "        [7]])"
            ]
          },
          "metadata": {
            "tags": []
          },
          "execution_count": 7
        }
      ]
    },
    {
      "cell_type": "code",
      "metadata": {
        "id": "H2k50XoXIgtL",
        "outputId": "b3343f77-13d5-411d-9dd3-d0eecb71b784",
        "colab": {
          "base_uri": "https://localhost:8080/"
        }
      },
      "source": [
        "#OR can be a list\n",
        "TwoD= [1,2,3],[4,5,6],[7,8,9]\n",
        "TensorTwoDtorch= torch.tensor(TwoD)\n",
        "print(\"The dimension of twoD_tensor: \",TensorTwoDtorch.ndimension())\n",
        "print(\"The shape of twoD_tensor: \", TensorTwoDtorch.shape)\n",
        "print(\"The shape of twoD_tensor: \", TensorTwoDtorch.size())\n",
        "print(\"The number of elements in twoD_tensor: \", TensorTwoDtorch.numel() )\n"
      ],
      "execution_count": 13,
      "outputs": [
        {
          "output_type": "stream",
          "text": [
            "The dimension of twoD_tensor:  2\n",
            "The shape of twoD_tensor:  torch.Size([3, 3])\n",
            "The shape of twoD_tensor:  torch.Size([3, 3])\n",
            "The number of elements in twoD_tensor:  9\n"
          ],
          "name": "stdout"
        }
      ]
    },
    {
      "cell_type": "code",
      "metadata": {
        "id": "ztN-yHKCKCOL",
        "outputId": "fb606905-89bd-4aca-a92f-0dd8267c965a",
        "colab": {
          "base_uri": "https://localhost:8080/"
        }
      },
      "source": [
        "#to numpy and then back to a tensor\n",
        "Num = TensorTwoDtorch.numpy()\n",
        "Back= torch.from_numpy(Num)\n",
        "print('original tensor ', TensorTwoDtorch )\n",
        "print('Numpy ',Num)\n",
        "print('Tensor from Numpy ', Back)\n",
        "#################\n",
        "TensorTwoDtorch[1][1]=100\n",
        "print('after modifying the original tensor')\n",
        "print('original tensor ', TensorTwoDtorch )\n",
        "print('Numpy ',Num)\n",
        "print('Tensor from Numpy ', Back)\n",
        "### have you noticed that they all got updated"
      ],
      "execution_count": 17,
      "outputs": [
        {
          "output_type": "stream",
          "text": [
            "original tensor  tensor([[  1,   2,   3],\n",
            "        [  4, 100,   6],\n",
            "        [  7,   8,   9]])\n",
            "Numpy  [[  1   2   3]\n",
            " [  4 100   6]\n",
            " [  7   8   9]]\n",
            "Tensor from Numpy  tensor([[  1,   2,   3],\n",
            "        [  4, 100,   6],\n",
            "        [  7,   8,   9]])\n",
            "after modifying the original tensor\n",
            "original tensor  tensor([[  1,   2,   3],\n",
            "        [  4, 100,   6],\n",
            "        [  7,   8,   9]])\n",
            "Numpy  [[  1   2   3]\n",
            " [  4 100   6]\n",
            " [  7   8   9]]\n",
            "Tensor from Numpy  tensor([[  1,   2,   3],\n",
            "        [  4, 100,   6],\n",
            "        [  7,   8,   9]])\n"
          ],
          "name": "stdout"
        }
      ]
    },
    {
      "cell_type": "code",
      "metadata": {
        "id": "gFHOGfUtL1nQ",
        "outputId": "302a063f-c434-4671-d06d-0b6ebb1e82a7",
        "colab": {
          "base_uri": "https://localhost:8080/"
        }
      },
      "source": [
        "#panda series are one D of any type\n",
        "#dataframes are any dimension \n",
        "df = pd.DataFrame({'a':[11,21,31],'b':[12,22,312]}) #remember that a and b are columns where in tensors each is a row\n",
        "print(df.b)\n",
        "print(df.values)\n",
        "new_tensor=torch.tensor(df.values)\n",
        "print(new_tensor)\n",
        "print(df.values.dtype)\n",
        "new_tensor.dtype"
      ],
      "execution_count": 30,
      "outputs": [
        {
          "output_type": "stream",
          "text": [
            "0     12\n",
            "1     22\n",
            "2    312\n",
            "Name: b, dtype: int64\n",
            "[[ 11  12]\n",
            " [ 21  22]\n",
            " [ 31 312]]\n",
            "tensor([[ 11,  12],\n",
            "        [ 21,  22],\n",
            "        [ 31, 312]])\n",
            "int64\n"
          ],
          "name": "stdout"
        },
        {
          "output_type": "execute_result",
          "data": {
            "text/plain": [
              "torch.int64"
            ]
          },
          "metadata": {
            "tags": []
          },
          "execution_count": 30
        }
      ]
    },
    {
      "cell_type": "code",
      "metadata": {
        "id": "DsphiWrBPEJ9"
      },
      "source": [
        "tensor_example = torch.tensor([[11, 12, 13], [21, 22, 23], [31, 32, 33]])"
      ],
      "execution_count": null,
      "outputs": []
    },
    {
      "cell_type": "code",
      "metadata": {
        "id": "8-cuDglYP3NM",
        "outputId": "9a8494e9-d85e-40de-8d0e-ed8347d145ad",
        "colab": {
          "base_uri": "https://localhost:8080/"
        }
      },
      "source": [
        "####Slicing \n",
        "tensor_example = torch.tensor([[11, 12, 13], [21, 22, 23], [31, 32, 33]])\n",
        "print(\"What is the value on 1st-row first two columns? \", tensor_example[0:2, 0:2]) #row 0 and column 0 and 1\n",
        "print(\"What is the value on 1st-row first two columns? \", tensor_example[0][0:2])\n",
        "b=tensor_example[0][0:2]\n",
        "b.ndimension() #dimension is different than size/shape\n"
      ],
      "execution_count": 35,
      "outputs": [
        {
          "output_type": "stream",
          "text": [
            "What is the value on 1st-row first two columns?  tensor([[11, 12],\n",
            "        [21, 22]])\n",
            "What is the value on 1st-row first two columns?  tensor([11, 12])\n"
          ],
          "name": "stdout"
        },
        {
          "output_type": "execute_result",
          "data": {
            "text/plain": [
              "1"
            ]
          },
          "metadata": {
            "tags": []
          },
          "execution_count": 35
        }
      ]
    }
  ]
}