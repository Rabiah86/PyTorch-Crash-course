{
  "nbformat": 4,
  "nbformat_minor": 0,
  "metadata": {
    "colab": {
      "name": "Pytorch Datasets.ipynb",
      "provenance": [],
      "authorship_tag": "ABX9TyNFPfnuiTZTsqiiYD5wBBUd",
      "include_colab_link": true
    },
    "kernelspec": {
      "name": "python3",
      "display_name": "Python 3"
    }
  },
  "cells": [
    {
      "cell_type": "markdown",
      "metadata": {
        "id": "view-in-github",
        "colab_type": "text"
      },
      "source": [
        "<a href=\"https://colab.research.google.com/github/Rabiah86/PyTorch-Crash-course/blob/main/Pytorch_Datasets.ipynb\" target=\"_parent\"><img src=\"https://colab.research.google.com/assets/colab-badge.svg\" alt=\"Open In Colab\"/></a>"
      ]
    },
    {
      "cell_type": "code",
      "metadata": {
        "id": "agzM1HmTG2_j",
        "outputId": "bca91a31-e35e-4fc1-e5ce-a7a5c06bcc0b",
        "colab": {
          "base_uri": "https://localhost:8080/"
        }
      },
      "source": [
        "import torch\n",
        "from torch.utils.data import Dataset\n",
        "torch.manual_seed(1)\n"
      ],
      "execution_count": 11,
      "outputs": [
        {
          "output_type": "execute_result",
          "data": {
            "text/plain": [
              "<torch._C.Generator at 0x7f8caeb71588>"
            ]
          },
          "metadata": {
            "tags": []
          },
          "execution_count": 11
        }
      ]
    },
    {
      "cell_type": "code",
      "metadata": {
        "id": "iMf2XppBG8Iu"
      },
      "source": [
        "class toy_set(Dataset):\n",
        "  def __init__(self,length=100,transform=None):\n",
        "     self.len= length\n",
        "     self.transform = transform\n",
        "     self.x=2*torch.ones(length,2) #2 is the size of each item, single iem, tuple , etc\n",
        "     self.y=torch.ones(length)\n",
        "  def __getitem__(self, index):\n",
        "    sample= self.x[index],self.y[index]\n",
        "    if self.transform != None:\n",
        "      self.transform(sample)\n",
        "    return sample\n",
        "\n",
        "  def __len__(self):\n",
        "    return self.len\n",
        "     "
      ],
      "execution_count": 15,
      "outputs": []
    },
    {
      "cell_type": "code",
      "metadata": {
        "id": "9Zi3haPPLYU7",
        "outputId": "1587f81a-0d1c-4d01-b50c-2d6a1ccfcafb",
        "colab": {
          "base_uri": "https://localhost:8080/"
        }
      },
      "source": [
        "mydata= toy_set()\n",
        "print(mydata.len) # .attribute \n",
        "print(mydata)\n",
        "print(mydata[0])"
      ],
      "execution_count": 16,
      "outputs": [
        {
          "output_type": "stream",
          "text": [
            "100\n",
            "<__main__.toy_set object at 0x7f8c59d56240>\n",
            "(tensor([2., 2.]), tensor(1.))\n"
          ],
          "name": "stdout"
        }
      ]
    },
    {
      "cell_type": "code",
      "metadata": {
        "id": "E2rGjJ74MQqP"
      },
      "source": [
        "for x,y in mydata:\n",
        "  print(x,y)"
      ],
      "execution_count": null,
      "outputs": []
    },
    {
      "cell_type": "code",
      "metadata": {
        "id": "Oydn3bi5NOIp"
      },
      "source": [
        "class add_mult(object):\n",
        "  def __init__(self, addx = 1,muly =2 ):\n",
        "    self.addx=addx\n",
        "    self.muly=muly\n",
        "  def __call__(self,sample):\n",
        "    x= sample[0]\n",
        "    y=sample[1]\n",
        "    return x+self.addx, y*self.muly\n"
      ],
      "execution_count": 27,
      "outputs": []
    },
    {
      "cell_type": "code",
      "metadata": {
        "id": "i6O38yMLPH1b",
        "outputId": "060c89ff-7def-4c31-dcd3-2c69fffdca1e",
        "colab": {
          "base_uri": "https://localhost:8080/"
        }
      },
      "source": [
        "trans= add_mult()\n",
        "newdataset= toy_set(transform=trans)\n",
        "newdataset[1]\n",
        "#or you can transform an existing dataset \n",
        "trans2=add_mult()\n",
        "x,y= mydata[0]\n",
        "x_,y_= trans2(mydata[0])\n",
        "###########Important########\n",
        "print(x_,y_)\n",
        "print(x,y)"
      ],
      "execution_count": 41,
      "outputs": [
        {
          "output_type": "stream",
          "text": [
            "tensor([3., 3.]) tensor(2.)\n",
            "tensor([2., 2.]) tensor(1.)\n"
          ],
          "name": "stdout"
        }
      ]
    }
  ]
}