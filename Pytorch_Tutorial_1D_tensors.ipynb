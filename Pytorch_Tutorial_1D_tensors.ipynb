{
  "nbformat": 4,
  "nbformat_minor": 0,
  "metadata": {
    "colab": {
      "name": "Pytorch Tutorial 1D tensors.ipynb",
      "provenance": []
    },
    "kernelspec": {
      "name": "python3",
      "display_name": "Python 3"
    }
  },
  "cells": [
    {
      "cell_type": "markdown",
      "metadata": {
        "id": "at8Z3quIjIR8"
      },
      "source": [
        "Creating 1D tensors, datatypes,tensor types\n",
        "0D : constansts or scalars\n",
        "1D: Nx1\n",
        "2D: MxN. etc\n",
        "dtype: is the datatype of the elements (a.k.a items)\n",
        "type is the tensor type\n"
      ]
    },
    {
      "cell_type": "code",
      "metadata": {
        "id": "3z-X6WRagCXg",
        "outputId": "7d2e58a5-95c8-4996-b15e-0c195325fe07",
        "colab": {
          "base_uri": "https://localhost:8080/"
        }
      },
      "source": [
        "import torch\n",
        "OneD = torch.tensor([5,7,9,3,4])\n",
        "print(OneD.dtype) #data type \n",
        "print(OneD.type()) # function returns the tensor type"
      ],
      "execution_count": 11,
      "outputs": [
        {
          "output_type": "stream",
          "text": [
            "torch.int64\n",
            "torch.LongTensor\n"
          ],
          "name": "stdout"
        }
      ]
    },
    {
      "cell_type": "code",
      "metadata": {
        "id": "t5pFdKN_hAzZ",
        "outputId": "b50fce58-7c90-4f9d-d409-13e537cf912b",
        "colab": {
          "base_uri": "https://localhost:8080/"
        }
      },
      "source": [
        "FloatOneD = torch.tensor([.5,.7,.9,.3,.4])\n",
        "print(FloatOneD.dtype) #data type \n",
        "print(FloatOneD.type()) #funcion returns the tensor type \n",
        "\n",
        "list_floats=[0.0, 1.0, 2.0, 3.0, 4.0]\n",
        "floats_int_tensor=torch.tensor(list_floats)"
      ],
      "execution_count": 105,
      "outputs": [
        {
          "output_type": "stream",
          "text": [
            "torch.float32\n",
            "torch.FloatTensor\n"
          ],
          "name": "stdout"
        }
      ]
    },
    {
      "cell_type": "code",
      "metadata": {
        "id": "uEPPcnmYhNRF",
        "outputId": "a823b484-ee79-40fe-bfd0-29bb415d300d",
        "colab": {
          "base_uri": "https://localhost:8080/"
        }
      },
      "source": [
        "TypeOneD = torch.tensor([.5,.7,.9,.3,.4], dtype=torch.int32)\n",
        "print(TypeOneD.dtype) #data type \n",
        "print(TypeOneD.type()) #funcion returns the tensor type \n",
        "print(TypeOneD) # all values will be casted to integer, hence all zero "
      ],
      "execution_count": 15,
      "outputs": [
        {
          "output_type": "stream",
          "text": [
            "torch.int32\n",
            "torch.IntTensor\n",
            "tensor([0, 0, 0, 0, 0], dtype=torch.int32)\n"
          ],
          "name": "stdout"
        }
      ]
    },
    {
      "cell_type": "markdown",
      "metadata": {
        "id": "p1hME_v9iCOu"
      },
      "source": [
        "If the tensor is [4.0, 3.0, 2.0, 4])\n",
        "then the automatic datatype is float, because the decimal point will decide the datatype ,even if its followed by zeros"
      ]
    },
    {
      "cell_type": "code",
      "metadata": {
        "id": "ngIJJ8Maisk9",
        "outputId": "a7267522-6c2d-4870-9426-194f4ef2a1d9",
        "colab": {
          "base_uri": "https://localhost:8080/"
        }
      },
      "source": [
        "#specify the tensor type:\n",
        "Example= torch.FloatTensor([1,33,4,5])\n",
        "print(Example.dtype)\n",
        "print('have you noticed the decimal point?',Example) \n",
        "#the data will inherit the tensor type, so all integers will become floats"
      ],
      "execution_count": 18,
      "outputs": [
        {
          "output_type": "stream",
          "text": [
            "torch.float32\n",
            "have you noticed the decimal point? tensor([ 1., 33.,  4.,  5.])\n"
          ],
          "name": "stdout"
        }
      ]
    },
    {
      "cell_type": "code",
      "metadata": {
        "id": "YDFeutyFkBiy",
        "outputId": "d6b42de2-af8d-4902-dbed-be6f618e5ed5",
        "colab": {
          "base_uri": "https://localhost:8080/"
        }
      },
      "source": [
        "Example.type(torch.IntTensor) #change the tensor type\n",
        "print(Example.size())\n",
        "print(Example[1])"
      ],
      "execution_count": 25,
      "outputs": [
        {
          "output_type": "stream",
          "text": [
            "torch.Size([4])\n",
            "tensor(33.)\n"
          ],
          "name": "stdout"
        }
      ]
    },
    {
      "cell_type": "markdown",
      "metadata": {
        "id": "Lv1aGfL6u7Ny"
      },
      "source": [
        "Tensors, numpy arrays, Pandas, lists"
      ]
    },
    {
      "cell_type": "code",
      "metadata": {
        "id": "9opqwK42nGBy",
        "outputId": "85f4b4e6-04bd-4f0f-d36a-86c88c3b9d2b",
        "colab": {
          "base_uri": "https://localhost:8080/"
        }
      },
      "source": [
        "#Tensors and numpy arrays\n",
        "import numpy as np\n",
        "Arr=np.array([1,2,3,4,5])\n",
        "Tensor_Arr= torch.from_numpy(Arr) # you have to assign it to another Tensor because it doesnt call by reference\n",
        "print(Tensor_Arr.type())\n",
        "Back=Tensor_Arr.numpy()\n",
        "Arr[:]=0\n",
        "Arr[1]=2\n",
        "print(Back)\n",
        "#but if you add a value to the array it wont be reflected on the Back and the other tensor, he pointer only points to the number of elements in the original array\n",
        "Arr=np.append(Arr,1)\n",
        "Arr[0]=1\n",
        "print(Arr)\n",
        "print(Back)"
      ],
      "execution_count": 116,
      "outputs": [
        {
          "output_type": "stream",
          "text": [
            "torch.LongTensor\n",
            "[0 2 0 0 0]\n",
            "[1 2 0 0 0 1]\n",
            "[0 2 0 0 0]\n"
          ],
          "name": "stdout"
        }
      ]
    },
    {
      "cell_type": "code",
      "metadata": {
        "id": "axyJrOCTsGg7",
        "outputId": "60f16369-4557-42a9-af2f-fdb8694ebb6a",
        "colab": {
          "base_uri": "https://localhost:8080/"
        }
      },
      "source": [
        "#Tensors and Panda seriese, and lists\n",
        "import pandas as pd\n",
        "PandaExample= pd.Series([1,3,4,5,6,7])\n",
        "Tensorpd= torch.from_numpy(PandaExample.values)\n",
        "TensorList= PandaExample.tolist()#have to asign to another list\n",
        "print(TensorList)\n",
        "print(Tensorpd[0].item())\n",
        "Tensorpd[0]=100\n",
        "print(Tensorpd[0].item())\n"
      ],
      "execution_count": 67,
      "outputs": [
        {
          "output_type": "stream",
          "text": [
            "[1, 3, 4, 5, 6, 7]\n",
            "1\n",
            "100\n"
          ],
          "name": "stdout"
        }
      ]
    },
    {
      "cell_type": "code",
      "metadata": {
        "id": "87WU8kJAxrqE",
        "outputId": "89887b14-bfe5-45af-f302-6aca7323ed4d",
        "colab": {
          "base_uri": "https://localhost:8080/"
        }
      },
      "source": [
        "####Slicing#####\n",
        "TensorA= torch.tensor([33,44,55,66])\n",
        "TensorB= TensorA[1:3] # take the element with index 1, stop at index 3-1 \n",
        "print('TensorB',TensorB)\n",
        "#### assign values to a slice\n",
        "TensorA[1:3]= torch.tensor([10,20])\n",
        "print('TensorA :',TensorA,'TensorB :',TensorB)\n",
        "#####Very important: Tensor B points to Tensor A, \n",
        "#so when we changes the values of the slice in A, B changes as well\n",
        "practice_tensor = torch.tensor([2, 7, 3, 4, 6, 2, 3, 1, 2])\n",
        "selected_index=[3,4,7]\n",
        "practice_tensor[selected_index]=0\n",
        "print(practice_tensor)\n"
      ],
      "execution_count": 117,
      "outputs": [
        {
          "output_type": "stream",
          "text": [
            "TensorB tensor([44, 55])\n",
            "TensorA : tensor([33, 10, 20, 66]) TensorB : tensor([10, 20])\n",
            "tensor([2, 7, 3, 0, 0, 2, 3, 0, 2])\n"
          ],
          "name": "stdout"
        }
      ]
    },
    {
      "cell_type": "code",
      "metadata": {
        "id": "Pp3BPf0j0vAM",
        "outputId": "1ed46a8b-f54f-4443-859e-8dccce3d4954",
        "colab": {
          "base_uri": "https://localhost:8080/"
        }
      },
      "source": [
        "#####Basic Operation \n",
        "TensorAdd1= torch.tensor([1,4,5])\n",
        "print('Original Scalar ',TensorAdd1 )\n",
        "TensorTemp = TensorAdd1+1 # this is called broadcasting \n",
        "print('Adding a scalar: ',TensorTemp)\n",
        "TensorTemp1= TensorAdd1*2\n",
        "print(TensorTemp1)\n",
        "V= torch.tensor([4,4,4])\n",
        "U= torch.tensor([2,2,2])\n",
        "Multiplication= U*V\n",
        "print('Vectors multiplication ',Multiplication )\n",
        "print('Dot product ',torch.dot(U,V))"
      ],
      "execution_count": 88,
      "outputs": [
        {
          "output_type": "stream",
          "text": [
            "Original Scalar  tensor([1, 4, 5])\n",
            "Adding a scalar:  tensor([2, 5, 6])\n",
            "tensor([ 2,  8, 10])\n",
            "Vectors multiplication  tensor([8, 8, 8])\n",
            "Dot product  tensor(24)\n"
          ],
          "name": "stdout"
        }
      ]
    },
    {
      "cell_type": "code",
      "metadata": {
        "id": "zINUcePQ4CAD",
        "outputId": "06769111-9396-4db2-aa9e-a66329aa57bd",
        "colab": {
          "base_uri": "https://localhost:8080/"
        }
      },
      "source": [
        "#functions\n",
        "AnyTensor = torch.tensor([np.pi,np.pi/4,np.pi/3])\n",
        "print(AnyTensor)\n",
        "torch.sin(AnyTensor)\n",
        "torch.mean(AnyTensor)\n",
        "torch.median(AnyTensor)"
      ],
      "execution_count": 96,
      "outputs": [
        {
          "output_type": "stream",
          "text": [
            "tensor([3.1416, 0.7854, 1.0472])\n"
          ],
          "name": "stdout"
        },
        {
          "output_type": "execute_result",
          "data": {
            "text/plain": [
              "tensor(1.0472)"
            ]
          },
          "metadata": {
            "tags": []
          },
          "execution_count": 96
        }
      ]
    },
    {
      "cell_type": "code",
      "metadata": {
        "id": "U9bEnb1P5dEB",
        "outputId": "60f01512-8923-4ba0-cb79-16701bace6bf",
        "colab": {
          "base_uri": "https://localhost:8080/",
          "height": 282
        }
      },
      "source": [
        "import matplotlib.pyplot as plt\n",
        "%matplotlib inline\n",
        "X= torch.linspace(-2,6,100)\n",
        "y= torch.sin(X)\n",
        "plt.plot(X,y)"
      ],
      "execution_count": 103,
      "outputs": [
        {
          "output_type": "execute_result",
          "data": {
            "text/plain": [
              "[<matplotlib.lines.Line2D at 0x7fef489d0278>]"
            ]
          },
          "metadata": {
            "tags": []
          },
          "execution_count": 103
        },
        {
          "output_type": "display_data",
          "data": {
            "image/png": "[encoded data removed]",
            "text/plain": [
              "<Figure size 432x288 with 1 Axes>"
            ]
          },
          "metadata": {
            "tags": [],
            "needs_background": "light"
          }
        }
      ]
    },
    {
      "cell_type": "code",
      "metadata": {
        "id": "6xkjFRIhDn8A",
        "outputId": "9cd7aa07-311a-489d-b1ce-f54520aeda6a",
        "colab": {
          "base_uri": "https://localhost:8080/",
          "height": 269
        }
      },
      "source": [
        "    \n",
        "def plotVec(vectors):\n",
        "  ax = plt.axes()\n",
        "    \n",
        "  # For loop to draw the vectors\n",
        "  for vec in vectors:\n",
        "        ax.arrow(0, 0, *vec[\"vector\"], head_width = 0.05,color = vec[\"color\"], head_length = 0.1)\n",
        "        plt.text(*(vec[\"vector\"] + 0.1), vec[\"name\"])\n",
        "    \n",
        "  plt.ylim(-2,2)\n",
        "  plt.xlim(-2,2)\n",
        "U=[-1,1]\n",
        "V=[1,1]\n",
        "TensorU=torch.tensor(U)\n",
        "TensorV=torch.tensor(V)\n",
        "DotProduct= torch.dot(TensorU,TensorV)\n",
        "plotVec([\n",
        "    {\"vector\": TensorU.numpy(), \"name\": 'U', \"color\": 'r'},\n",
        "    {\"vector\": TensorV.numpy(), \"name\": 'V', \"color\": 'b'}\n",
        "])"
      ],
      "execution_count": 122,
      "outputs": [
        {
          "output_type": "display_data",
          "data": {
            "image/png": "[encoded data removed]",
            "text/plain": [
              "<Figure size 432x288 with 1 Axes>"
            ]
          },
          "metadata": {
            "tags": [],
            "needs_background": "light"
          }
        }
      ]
    }
  ]
}